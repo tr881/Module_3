{
 "cells": [
  {
   "cell_type": "code",
   "execution_count": 1,
   "id": "9a4291f2-3033-4cdb-988c-fe19cd4c0eff",
   "metadata": {},
   "outputs": [
    {
     "name": "stdout",
     "output_type": "stream",
     "text": [
      "0 0 1 1 2 2\n"
     ]
    }
   ],
   "source": [
    "class Solution:\n",
    "    \n",
    "    def sort012(arr):\n",
    "        lo = 0\n",
    "        mid = 0\n",
    "        hi = len(arr) - 1\n",
    "\n",
    "        while True:\n",
    "            if mid > hi:\n",
    "                break\n",
    "            \n",
    "            if arr[mid] == 0:\n",
    "                arr[lo], arr[mid] = arr[mid], arr[lo]\n",
    "                lo += 1\n",
    "                mid += 1\n",
    "            elif arr[mid] == 1:\n",
    "                mid += 1\n",
    "            else:\n",
    "                arr[mid], arr[hi] = arr[hi], arr[mid]\n",
    "                hi -= 1\n",
    "        \n",
    "        return arr\n",
    "\n",
    "arr = [0, 1, 2, 0, 1, 2]\n",
    "Solution.sort012(arr)\n",
    "\n",
    "print(*arr)\n"
   ]
  },
  {
   "cell_type": "code",
   "execution_count": 3,
   "id": "b61a8bad-40e6-418a-b2e7-02ff64b1fa4e",
   "metadata": {},
   "outputs": [
    {
     "name": "stdout",
     "output_type": "stream",
     "text": [
      "3\n",
      "-1\n",
      "0\n"
     ]
    }
   ],
   "source": [
    "def binary_search_first(arr, k):\n",
    "    low, high, result = 0, len(arr) - 1, -1\n",
    "    while low <= high:\n",
    "        mid = low + (high - low) // 2\n",
    "        if arr[mid] == k:\n",
    "            result = mid\n",
    "            high = mid - 1\n",
    "        elif arr[mid] < k:\n",
    "            low = mid + 1\n",
    "        else:\n",
    "            high = mid - 1\n",
    "    return result\n",
    "\n",
    "print(binary_search_first([1, 2, 3, 4, 5], 4))\n",
    "print(binary_search_first([11, 22, 33, 44, 55], 445))\n",
    "print(binary_search_first([1, 1, 1, 1, 2], 1))"
   ]
  }
 ],
 "metadata": {
  "kernelspec": {
   "display_name": "Python [conda env:base] *",
   "language": "python",
   "name": "conda-base-py"
  },
  "language_info": {
   "codemirror_mode": {
    "name": "ipython",
    "version": 3
   },
   "file_extension": ".py",
   "mimetype": "text/x-python",
   "name": "python",
   "nbconvert_exporter": "python",
   "pygments_lexer": "ipython3",
   "version": "3.12.7"
  }
 },
 "nbformat": 4,
 "nbformat_minor": 5
}
